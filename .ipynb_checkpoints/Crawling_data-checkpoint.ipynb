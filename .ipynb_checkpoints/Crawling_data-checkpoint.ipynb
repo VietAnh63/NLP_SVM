{
 "cells": [
  {
   "cell_type": "code",
   "execution_count": null,
   "metadata": {},
   "outputs": [],
   "source": [
    "import urllib.request\n",
    "from bs4 import BeautifulSoup\n",
    "import re\n",
    "import csv\n",
    "import os\n",
    "#set url của trang web\n",
    "url = input('Nhập url trang:')\n",
    "#get trang web về\n",
    "page = urllib.request.urlopen(url)\n",
    "soup = BeautifulSoup(page)\n",
    "tag = soup.find_all('div', attrs={\"class\": \"content\"})\n",
    "# for feed in tag:\n",
    "#     if feed.getText() != \"\" and feed.getText() != tag[0].getText():\n",
    "#         print(feed.getText())\n",
    "if os.path.isfile('data1.csv') == True:\n",
    "    with open('data1.csv', 'a+', encoding = 'utf-8') as csv_file:\n",
    "        csv.reader(csv_file)\n",
    "        writer = csv.writer(csv_file)\n",
    "        for feed in tag:\n",
    "            if feed.getText() != \"\" and feed.getText() != tag[0].getText():\n",
    "                text = feed.getText()\n",
    "                writer.writerow([text,0])\n",
    "else:\n",
    "    with open('data1.csv', 'a+', encoding = 'utf-8') as csv_file:\n",
    "        writer = csv.writer(csv_file)\n",
    "        writer.writerow(['Title','target'])\n",
    "        for feed in tag:\n",
    "            if feed.getText() != \"\" and feed.getText() != tag[0].getText():\n",
    "                text = feed.getText()\n",
    "                writer.writerow([text, 0])"
   ]
  },
  {
   "cell_type": "code",
   "execution_count": null,
   "metadata": {},
   "outputs": [],
   "source": []
  },
  {
   "cell_type": "code",
   "execution_count": null,
   "metadata": {},
   "outputs": [],
   "source": []
  }
 ],
 "metadata": {
  "kernelspec": {
   "display_name": "Python 3",
   "language": "python",
   "name": "python3"
  },
  "language_info": {
   "codemirror_mode": {
    "name": "ipython",
    "version": 3
   },
   "file_extension": ".py",
   "mimetype": "text/x-python",
   "name": "python",
   "nbconvert_exporter": "python",
   "pygments_lexer": "ipython3",
   "version": "3.6.8"
  }
 },
 "nbformat": 4,
 "nbformat_minor": 2
}
