{
 "cells": [
  {
   "cell_type": "code",
   "execution_count": 1,
   "metadata": {},
   "outputs": [],
   "source": [
    "import urllib.request\n",
    "from bs4 import BeautifulSoup\n",
    "import re\n",
    "import csv\n",
    "import os\n",
    "import json\n",
    "import pandas as pd\n",
    "from sklearn.externals import joblib\n",
    "from nltk import ngrams\n",
    "from underthesea import word_tokenize"
   ]
  },
  {
   "cell_type": "code",
   "execution_count": null,
   "metadata": {},
   "outputs": [],
   "source": [
    "#set url của trang web\n",
    "url = input('Nhập url trang:')\n",
    "#get trang web về\n",
    "page = urllib.request.urlopen(url)\n",
    "soup = BeautifulSoup(page)\n",
    "pattern = re.compile(r\"window.Rent.data\\s+=\\s+(\\{.*?\\});\\n\")\n",
    "script = soup.find_all(\"script\", attrs={\"type\": \"application/ld+json\"})\n",
    "new = script[0]\n",
    "csvdata = []\n",
    "if os.path.isfile('data.csv') == True:\n",
    "    os.remove('data.csv')\n",
    "    with open('data.csv', 'a+', encoding = 'utf-8') as csv_file:\n",
    "        writer = csv.writer(csv_file)\n",
    "        writer.writerow(['Title'])\n",
    "        for element in json.loads(new.getText())[\"review\"]:\n",
    "            if \"reviewBody\" in element:\n",
    "                csvdata.append([element[\"reviewBody\"]])\n",
    "        print(csvdata)\n",
    "        writer.writerows(csvdata)\n",
    "else:\n",
    "     with open('data.csv', 'a+', encoding = 'utf-8') as csv_file:\n",
    "        writer = csv.writer(csv_file)\n",
    "        writer.writerow(['Title'])\n",
    "        for element in json.loads(new.getText())[\"review\"]:\n",
    "            if \"reviewBody\" in element:\n",
    "                csvdata.append([element[\"reviewBody\"]])\n",
    "        writer.writerows(csvdata)\n",
    "                \n",
    "# for element in json.loads(new.getText())[\"review\"]:\n",
    "#     if \"reviewBody\" in element:\n",
    "#         print(element[\"reviewBody\"])\n",
    "#         print(\"\\n\")\n",
    "# data = pattern.search(script.text).group(1)\n",
    "# data = json.loads(data)\n",
    "# print(data)"
   ]
  },
  {
   "cell_type": "code",
   "execution_count": null,
   "metadata": {},
   "outputs": [],
   "source": [
    "def transform_row(row):\n",
    "    #remove stopword\n",
    "    \n",
    "    # Xóa dấu chấm, phẩy, hỏi ở cuối câu\n",
    "    row = re.sub(r\"[\\.,\\?]+$-\", \"\", row)\n",
    "    # Xóa tất cả dấu chấm, phẩy, chấm phẩy, chấm thang, ... trong câu\n",
    "    row = row.replace(\",\", \" \").replace(\".\", \" \") \\\n",
    "        .replace(\";\", \" \").replace(\"“\", \" \") \\\n",
    "        .replace(\":\", \" \").replace(\"”\", \" \") \\\n",
    "        .replace('\"', \" \").replace(\"'\", \" \") \\\n",
    "        .replace(\"!\", \" \").replace(\"?\", \" \") \\\n",
    "        .replace(\"-\", \" \").replace(\"?\", \" \")\n",
    "    \n",
    "    row = row.strip()\n",
    "    return row \n",
    "datanew = pd.read_csv(\"data.csv\").drop([0]).dropna()\n",
    "ketqua = datanew[\"Title\"]\n",
    "datanew[\"Title\"] = datanew.Title.apply(transform_row)"
   ]
  },
  {
   "cell_type": "code",
   "execution_count": null,
   "metadata": {},
   "outputs": [],
   "source": [
    "def data_ngram(row):\n",
    "    row = word_tokenize(row, format=\"text\")\n",
    "    return row\n",
    "datanew[\"Title\"] = datanew.Title.apply(data_ngram)\n",
    "print(datanew[\"Title\"])\n",
    "X_new = datanew[\"Title\"]\n",
    "train = joblib.load('tfidf.pkl')\n",
    "X_new = train.transform(X_new)\n",
    "X_new = X_new.toarray()"
   ]
  },
  {
   "cell_type": "code",
   "execution_count": null,
   "metadata": {},
   "outputs": [],
   "source": [
    "model = joblib.load('saved_model.pkl')\n",
    "kq = model.predict(X_new)\n",
    "kq"
   ]
  },
  {
   "cell_type": "code",
   "execution_count": null,
   "metadata": {},
   "outputs": [],
   "source": [
    "def danhgia(kq):\n",
    "    xau = 0\n",
    "    tot = 0\n",
    "    for val in kq:\n",
    "        if val == 1:\n",
    "            xau = xau+1\n",
    "        else:\n",
    "            tot = tot+1\n",
    "    if xau < tot:\n",
    "        ketqua = 0\n",
    "    else:\n",
    "        ketqua = 1\n",
    "    return ketqua\n",
    "danhgia = danhgia(kq)\n",
    "if(danhgia == 0):\n",
    "    print('Hàng đảm bảo')\n",
    "else:\n",
    "    print(\"Hàng không an toàn\") "
   ]
  },
  {
   "cell_type": "code",
   "execution_count": null,
   "metadata": {},
   "outputs": [],
   "source": []
  }
 ],
 "metadata": {
  "kernelspec": {
   "display_name": "Python 3",
   "language": "python",
   "name": "python3"
  },
  "language_info": {
   "codemirror_mode": {
    "name": "ipython",
    "version": 3
   },
   "file_extension": ".py",
   "mimetype": "text/x-python",
   "name": "python",
   "nbconvert_exporter": "python",
   "pygments_lexer": "ipython3",
   "version": "3.6.8"
  }
 },
 "nbformat": 4,
 "nbformat_minor": 2
}
