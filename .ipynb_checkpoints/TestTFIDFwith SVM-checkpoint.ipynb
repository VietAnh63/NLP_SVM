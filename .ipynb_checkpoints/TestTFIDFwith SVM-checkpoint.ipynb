{
 "cells": [
  {
   "cell_type": "code",
   "execution_count": 1,
   "metadata": {},
   "outputs": [],
   "source": [
    "import pandas as pd\n",
    "import re\n",
    "from nltk import ngrams\n",
    "from underthesea import word_tokenize\n",
    "from sklearn import svm\n",
    "from sklearn.feature_extraction.text import TfidfVectorizer\n",
    "from sklearn.externals import joblib\n",
    "import os"
   ]
  },
  {
   "cell_type": "code",
   "execution_count": 2,
   "metadata": {},
   "outputs": [
    {
     "data": {
      "text/html": [
       "<div>\n",
       "<style scoped>\n",
       "    .dataframe tbody tr th:only-of-type {\n",
       "        vertical-align: middle;\n",
       "    }\n",
       "\n",
       "    .dataframe tbody tr th {\n",
       "        vertical-align: top;\n",
       "    }\n",
       "\n",
       "    .dataframe thead th {\n",
       "        text-align: right;\n",
       "    }\n",
       "</style>\n",
       "<table border=\"1\" class=\"dataframe\">\n",
       "  <thead>\n",
       "    <tr style=\"text-align: right;\">\n",
       "      <th></th>\n",
       "      <th>Title</th>\n",
       "      <th>target</th>\n",
       "    </tr>\n",
       "  </thead>\n",
       "  <tbody>\n",
       "    <tr>\n",
       "      <th>1</th>\n",
       "      <td>Đã nhận được hàng, máy đẹp, giao hàng nhanh. C...</td>\n",
       "      <td>0</td>\n",
       "    </tr>\n",
       "    <tr>\n",
       "      <th>2</th>\n",
       "      <td>Tôi mua sản phẩm samsung Galaxy M10. Máy bị lỗ...</td>\n",
       "      <td>1</td>\n",
       "    </tr>\n",
       "    <tr>\n",
       "      <th>3</th>\n",
       "      <td>Đặt Samsung Galaxy M10,giao hàng ngoài hộp M10...</td>\n",
       "      <td>1</td>\n",
       "    </tr>\n",
       "    <tr>\n",
       "      <th>4</th>\n",
       "      <td>Hàng đẹp xài ngon so với giá tiền, nên mua cho...</td>\n",
       "      <td>0</td>\n",
       "    </tr>\n",
       "    <tr>\n",
       "      <th>5</th>\n",
       "      <td>Lúc mua cái màu đen nó nóng quá vs mau hết pin...</td>\n",
       "      <td>1</td>\n",
       "    </tr>\n",
       "    <tr>\n",
       "      <th>6</th>\n",
       "      <td>shop rất uy tín, ban đầu lỗi xíu, yêu cầu đổi ...</td>\n",
       "      <td>0</td>\n",
       "    </tr>\n",
       "    <tr>\n",
       "      <th>7</th>\n",
       "      <td>ok thiếu củ sạc</td>\n",
       "      <td>1</td>\n",
       "    </tr>\n",
       "  </tbody>\n",
       "</table>\n",
       "</div>"
      ],
      "text/plain": [
       "                                               Title  target\n",
       "1  Đã nhận được hàng, máy đẹp, giao hàng nhanh. C...       0\n",
       "2  Tôi mua sản phẩm samsung Galaxy M10. Máy bị lỗ...       1\n",
       "3  Đặt Samsung Galaxy M10,giao hàng ngoài hộp M10...       1\n",
       "4  Hàng đẹp xài ngon so với giá tiền, nên mua cho...       0\n",
       "5  Lúc mua cái màu đen nó nóng quá vs mau hết pin...       1\n",
       "6  shop rất uy tín, ban đầu lỗi xíu, yêu cầu đổi ...       0\n",
       "7                                    ok thiếu củ sạc       1"
      ]
     },
     "execution_count": 2,
     "metadata": {},
     "output_type": "execute_result"
    }
   ],
   "source": [
    "df = pd.read_csv(\"data1.csv\").drop([0])\n",
    "train = df[\"Title\"]\n",
    "df.head(7)"
   ]
  },
  {
   "cell_type": "code",
   "execution_count": 3,
   "metadata": {},
   "outputs": [
    {
     "data": {
      "text/html": [
       "<div>\n",
       "<style scoped>\n",
       "    .dataframe tbody tr th:only-of-type {\n",
       "        vertical-align: middle;\n",
       "    }\n",
       "\n",
       "    .dataframe tbody tr th {\n",
       "        vertical-align: top;\n",
       "    }\n",
       "\n",
       "    .dataframe thead th {\n",
       "        text-align: right;\n",
       "    }\n",
       "</style>\n",
       "<table border=\"1\" class=\"dataframe\">\n",
       "  <thead>\n",
       "    <tr style=\"text-align: right;\">\n",
       "      <th></th>\n",
       "      <th>Title</th>\n",
       "      <th>target</th>\n",
       "    </tr>\n",
       "  </thead>\n",
       "  <tbody>\n",
       "    <tr>\n",
       "      <th>1</th>\n",
       "      <td>Đã nhận được hàng  máy đẹp  giao hàng nhanh  C...</td>\n",
       "      <td>0</td>\n",
       "    </tr>\n",
       "    <tr>\n",
       "      <th>2</th>\n",
       "      <td>Tôi mua sản phẩm samsung Galaxy M10  Máy bị lỗ...</td>\n",
       "      <td>1</td>\n",
       "    </tr>\n",
       "    <tr>\n",
       "      <th>3</th>\n",
       "      <td>Đặt Samsung Galaxy M10 giao hàng ngoài hộp M10...</td>\n",
       "      <td>1</td>\n",
       "    </tr>\n",
       "    <tr>\n",
       "      <th>4</th>\n",
       "      <td>Hàng đẹp xài ngon so với giá tiền  nên mua cho...</td>\n",
       "      <td>0</td>\n",
       "    </tr>\n",
       "    <tr>\n",
       "      <th>5</th>\n",
       "      <td>Lúc mua cái màu đen nó nóng quá vs mau hết pin...</td>\n",
       "      <td>1</td>\n",
       "    </tr>\n",
       "    <tr>\n",
       "      <th>6</th>\n",
       "      <td>shop rất uy tín  ban đầu lỗi xíu  yêu cầu đổi ...</td>\n",
       "      <td>0</td>\n",
       "    </tr>\n",
       "    <tr>\n",
       "      <th>7</th>\n",
       "      <td>ok thiếu củ sạc</td>\n",
       "      <td>1</td>\n",
       "    </tr>\n",
       "  </tbody>\n",
       "</table>\n",
       "</div>"
      ],
      "text/plain": [
       "                                               Title  target\n",
       "1  Đã nhận được hàng  máy đẹp  giao hàng nhanh  C...       0\n",
       "2  Tôi mua sản phẩm samsung Galaxy M10  Máy bị lỗ...       1\n",
       "3  Đặt Samsung Galaxy M10 giao hàng ngoài hộp M10...       1\n",
       "4  Hàng đẹp xài ngon so với giá tiền  nên mua cho...       0\n",
       "5  Lúc mua cái màu đen nó nóng quá vs mau hết pin...       1\n",
       "6  shop rất uy tín  ban đầu lỗi xíu  yêu cầu đổi ...       0\n",
       "7                                    ok thiếu củ sạc       1"
      ]
     },
     "execution_count": 3,
     "metadata": {},
     "output_type": "execute_result"
    }
   ],
   "source": [
    "def transform_row(row):\n",
    "    #remove stopword\n",
    "    \n",
    "    # Xóa dấu chấm, phẩy, hỏi ở cuối câu\n",
    "    row = re.sub(r\"[\\.,\\?]+$-\", \"\", row)\n",
    "    # Xóa tất cả dấu chấm, phẩy, chấm phẩy, chấm thang, ... trong câu\n",
    "    row = row.replace(\",\", \" \").replace(\".\", \" \") \\\n",
    "        .replace(\";\", \" \").replace(\"“\", \" \") \\\n",
    "        .replace(\":\", \" \").replace(\"”\", \" \") \\\n",
    "        .replace('\"', \" \").replace(\"'\", \" \") \\\n",
    "        .replace(\"!\", \" \").replace(\"?\", \" \") \\\n",
    "        .replace(\"-\", \" \").replace(\"?\", \" \")\n",
    "    \n",
    "    row = row.strip()\n",
    "    return row \n",
    "\n",
    "df[\"Title\"] = df.Title.apply(transform_row)\n",
    "df.head(7)"
   ]
  },
  {
   "cell_type": "code",
   "execution_count": 4,
   "metadata": {},
   "outputs": [],
   "source": [
    "from sklearn.model_selection import train_test_split\n",
    "def data_ngram(row):\n",
    "    row = word_tokenize(row, format=\"text\")\n",
    "    return row\n",
    "df[\"Title\"] = df.Title.apply(data_ngram)\n",
    "x_train,x_test,y_train,y_test = train_test_split(df[\"Title\"],df[\"target\"],test_size=0.3, random_state=42)"
   ]
  },
  {
   "cell_type": "code",
   "execution_count": 5,
   "metadata": {},
   "outputs": [
    {
     "data": {
      "text/plain": [
       "31     Mặc_dù túi và hình_ảnh trên ly k liên_quan như...\n",
       "78     Sản_phẩm tốt Nhựa cứng lò_xo chắc_chắn Bị cái ...\n",
       "66     hàng đẹp nhưng chát ko được chỉ nghe chứ nói b...\n",
       "10                          hag chuan rat ug y cam on sh\n",
       "34     shop nhiệt_tình ghê luôn nhắn_tin hỏi mình chọ...\n",
       "26                  san pham kem chat luong that te luon\n",
       "71                  đặt 3 lần 1 màu về 3 màu shop quá tệ\n",
       "29                        đẹp chat luong cung ổn nên mua\n",
       "121             dkm shop bán hàng cũ bào hàng mới bố_láo\n",
       "112                                  balo bị đứt dây nha\n",
       "6      shop rất uy_tín ban_đầu lỗi xíu yêu_cầu đổi hà...\n",
       "65     mình mới mua xong sp tốt vượt mong_đợi các bạn...\n",
       "70              Đặt full đỏ nhưng ra mấy cái màu tài lao\n",
       "40     đẹp đến từng cm cảm_ơn xẽ ủng_hộ lâu_dài nêu c...\n",
       "50                           sao ko mo len duoc vay shop\n",
       "36     rất hài_lòng chỉ điều là hình màu trắng nhưng ...\n",
       "17     quân lot su dp giôg mâu nhưg hang ko tôt như j...\n",
       "68                                          hàng tốt lắm\n",
       "35                                          Rất hài_lòng\n",
       "85     nói_chung là ok men anh_em nào cao khoảng 1m65...\n",
       "8      đống goi chắc_chắn hàng đẹp hơn mong_đợi chủ_s...\n",
       "44     Hủy con_mẹ rùi mà shops vẫn gửi ukm thì nhận n...\n",
       "74     Hàng không có nhãn_mác nói là của nhật mà mình...\n",
       "69     làm_ăn gian_dối lừa_đảo mùa 6 gửi có 5 mình mu...\n",
       "81                                                    đc\n",
       "28                  Sao NC một cặp mà giao co một cai ak\n",
       "20     Giao hàng sai màu Không có chính_sách đổi trả ...\n",
       "98     áo rất đẹp đúng màu mk đặt mặt rất vừa shipper...\n",
       "114                                         Hàng như lol\n",
       "9      sản_phẩm đúng như hình rất ok chất_liệu tốt rấ...\n",
       "                             ...                        \n",
       "76                                Bậy quá không hữu_dụng\n",
       "33     Mặc_dù cái túi màu và hình_ảnh không liên_quan...\n",
       "115                                     Hàng lừa_đảo rồi\n",
       "60       xấu quá Shop ơi Mình không mấy hài_lòng Cho_lắm\n",
       "64                           rất tốt giao hàng rất nhanh\n",
       "102    vải nhẹ thoải_mái đúng fom chỉ có điều họa tiế...\n",
       "38                     ko hài long hang ko có dường viền\n",
       "30     Mình mua lần 2 rồi vẫn rất hài_lòng bình rất đ...\n",
       "109               hàng đẹp so với size chuẩn thì hơi nhỏ\n",
       "2      Tôi mua sản_phẩm samsung Galaxy_M10_Máy bị lỗi...\n",
       "53                                       đẹp quá nha > <\n",
       "22             Hàng chất_lượng Giao hàng nhanh cho 5 sa0\n",
       "3      Đặt Samsung_Galaxy_M10 giao hàng ngoài hộp M10...\n",
       "24     Mới nhận hàng_hàng chất_lượng cùng kiểu nhưng ...\n",
       "104    sản_phẩm đóng_gói đẹp giao hành nhanh_chóng nó...\n",
       "100                                         đẹp lắm shop\n",
       "88     mình đã nhận đc xe rồi shop ạ Xe nhìn chất quá...\n",
       "111    hang phu hop gia tien ba lo hoi mong_manh ao k...\n",
       "75     Khuyên chuyên_gia hãy kiểm_tra thử rồi hãy bán...\n",
       "87     xe chạy bốc mạnh còn bền thì chưa biết giao hà...\n",
       "83     Giao hàng sai kích_thước trậm trễ và thiếu trá...\n",
       "122                                  Hàng tối giao nhanh\n",
       "21     Nhìn thì đẹp nhưng mặc hơi chật bình_thường vẫ...\n",
       "61                       tưởng nhựa cứng ai_ngờ nhựa dẻo\n",
       "72                       đặt 3 lần 1 màu về 3 màu quá tệ\n",
       "107                              đẹp đúng giống như hình\n",
       "15     SP tôt giao hàng nhanh giá hợp túi_tiền Shop d...\n",
       "93     Shop phục_vụ tốt giao hàng đúng mẫu đã chọn Hà...\n",
       "52            sản_phẩm rất tốt và rất đẹp nhưng hơi rộng\n",
       "103    San pham tot Hinh anh am thanh chat luong sem ...\n",
       "Name: Title, Length: 85, dtype: object"
      ]
     },
     "execution_count": 5,
     "metadata": {},
     "output_type": "execute_result"
    }
   ],
   "source": [
    "x_train"
   ]
  },
  {
   "cell_type": "code",
   "execution_count": 6,
   "metadata": {},
   "outputs": [],
   "source": [
    "train = TfidfVectorizer(min_df=5, max_df=0.8,max_features=3000,sublinear_tf=True)\n",
    "X = train.fit(x_train)\n",
    "joblib.dump(train, 'tfidf.pkl')"
   ]
  },
  {
   "cell_type": "code",
   "execution_count": 7,
   "metadata": {},
   "outputs": [],
   "source": [
    "X = train.transform(x_train)\n",
    "X\n",
    "Y = y_train"
   ]
  },
  {
   "cell_type": "code",
   "execution_count": 8,
   "metadata": {},
   "outputs": [
    {
     "data": {
      "text/plain": [
       "(85, 53)"
      ]
     },
     "execution_count": 8,
     "metadata": {},
     "output_type": "execute_result"
    }
   ],
   "source": [
    "X.shape"
   ]
  },
  {
   "cell_type": "code",
   "execution_count": 9,
   "metadata": {},
   "outputs": [],
   "source": [
    "if os.path.isfile('saved_model.pkl') == False:\n",
    "    model = svm.SVC(kernel='linear', C=1)\n",
    "    model.fit(X,Y)\n",
    "    joblib.dump(model, 'saved_model.pkl') \n",
    "else:\n",
    "    model = joblib.load('saved_model.pkl')"
   ]
  },
  {
   "cell_type": "code",
   "execution_count": 10,
   "metadata": {
    "scrolled": true
   },
   "outputs": [
    {
     "data": {
      "text/plain": [
       "(37, 53)"
      ]
     },
     "execution_count": 10,
     "metadata": {},
     "output_type": "execute_result"
    }
   ],
   "source": [
    "X_test = train.transform(x_test)\n",
    "X_test = X_test.toarray()\n",
    "X_test.shape"
   ]
  },
  {
   "cell_type": "code",
   "execution_count": 11,
   "metadata": {},
   "outputs": [
    {
     "data": {
      "text/plain": [
       "19        giong hinh nhung shop giao cho minh ao hon nho\n",
       "46                                      kính sài khá tốt\n",
       "48                             hàng rất tốt rất hài_lòng\n",
       "90     Trên cả tuyệt_vời shop ơi Sang tuần sẽ mua thê...\n",
       "5      Lúc mua cái màu đen nó nóng quá vs mau hết pin...\n",
       "41     với giá náy thì ok nhưng lớp lót bên trong là ...\n",
       "63                           đẹp giao hàng có Chất_lượng\n",
       "108    Hơi ôm chất_liệu vải ok nếu mua trừ_hao vài số...\n",
       "32     hàng đẹp đã sử_dụng thử rất ok không bị thấm n...\n",
       "56     Hi_shop sao lại giao thiếu_phụ_kiện vậy vấn_đề...\n",
       "54     Giao hàng nhanh Nhưng sản_phẩm rất tệ vừa đeo ...\n",
       "120                            hàng tốt mình sẽ mua thêm\n",
       "11                                  Đẹp như hình xài tốt\n",
       "91     Điểm 10 Cho chất_Lượng Thời_Gian Giang Hàng Nh...\n",
       "110    giao hàng nhanh chất_liệu không tốt lắm nhưng ...\n",
       "12                                     mặc rất thoải_mái\n",
       "77     sản_phẩm gây thất_vọng quá gắn vào không tăng ...\n",
       "57     nhận được hàng ok nhưng k hài_lòng cho mấy vì ...\n",
       "116                            Hàng nhái không tốt 1 sao\n",
       "1      Đã nhận được hàng máy đẹp giao hàng nhanh Cảm_...\n",
       "27                                         áo đẹp và tốt\n",
       "45                                       ko cho trả hàng\n",
       "67     Hàng về rồi Shop gói hàng kĩ quá 😁 😁 Chất_lượn...\n",
       "99     rất tốt nha ae mua ủng_hộ nhưng mua áo này ae ...\n",
       "25     dep lam vua qua toi kg dung_sai muon dat cai k...\n",
       "43     Nhận hàng như hình Sản_phẩm sử_dụng tạm được t...\n",
       "106                          giao hàng lủng lỗ trên quần\n",
       "94     giao hàng nhanh đầy_đủ phụ_kiện giữ đá khoảng ...\n",
       "37     trong hình màu trắng_đen giao trắng xanh_dương...\n",
       "101                                VẢI HƠI MỎNG_NHÉ_SHOP\n",
       "13                                         😍 😍 😍 😍 😍 😍 😍\n",
       "16                         Quần siêu đẹp giao hàng nhanh\n",
       "73                                 Màu giống hình ghê ta\n",
       "23      nhàu sắc giống hình nhưng mỏng quá k độn tẹo nào\n",
       "117                                        Hàng phế_phẩm\n",
       "92     Cảm_ơn shop đã gửi giao hàng được 1 ngày mới g...\n",
       "84     mình đặt màu xanh_lá cây mà giao cho mình sản_...\n",
       "Name: Title, dtype: object"
      ]
     },
     "execution_count": 11,
     "metadata": {},
     "output_type": "execute_result"
    }
   ],
   "source": [
    "x_test"
   ]
  },
  {
   "cell_type": "code",
   "execution_count": 12,
   "metadata": {},
   "outputs": [
    {
     "data": {
      "text/plain": [
       "0.7837837837837838"
      ]
     },
     "execution_count": 12,
     "metadata": {},
     "output_type": "execute_result"
    }
   ],
   "source": [
    "Y_Test = y_test\n",
    "model.score(X_test,Y_Test)"
   ]
  },
  {
   "cell_type": "code",
   "execution_count": null,
   "metadata": {},
   "outputs": [],
   "source": [
    "from sklearn.model_selection import GridSearchCV\n",
    "\n",
    "parameter_candidates = [\n",
    "  {'C': [0.001, 0.01, 0.1, 1, 5, 10, 100, 1000], 'kernel': ['linear','rbf']},\n",
    "]\n",
    "\n",
    "clf = GridSearchCV(estimator=svm.SVC(), param_grid=parameter_candidates, n_jobs=-1)\n",
    "clf.fit(X, Y)\n",
    "print('Best score:', clf.best_score_)\n",
    "print('Best C:',clf.best_estimator_.C)\n",
    "print('Best kernel:',clf.best_estimator_.kernel)"
   ]
  }
 ],
 "metadata": {
  "kernelspec": {
   "display_name": "Python 3",
   "language": "python",
   "name": "python3"
  },
  "language_info": {
   "codemirror_mode": {
    "name": "ipython",
    "version": 3
   },
   "file_extension": ".py",
   "mimetype": "text/x-python",
   "name": "python",
   "nbconvert_exporter": "python",
   "pygments_lexer": "ipython3",
   "version": "3.6.8"
  }
 },
 "nbformat": 4,
 "nbformat_minor": 2
}
